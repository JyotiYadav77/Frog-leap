{
 "cells": [
  {
   "cell_type": "code",
   "execution_count": null,
   "metadata": {},
   "outputs": [
    {
     "name": "stdout",
     "output_type": "stream",
     "text": [
      "[  0     1      2     3     4      5     6  ]\n",
      "['🐸', '🐸', '🐸', '🍁', '🐬', '🐬', '🐬']\n"
     ]
    }
   ],
   "source": [
    "from IPython.display import clear_output\n",
    "positions =['\\U0001F438','\\U0001F438','\\U0001F438','\\U0001F341','\\U0001F42C','\\U0001F42C','\\U0001F42C']\n",
    "print('[  0     1      2     3     4      5     6  ]')\n",
    "print(positions)\n",
    "while True:\n",
    "    pno = input('Enter the position: ')\n",
    "    if(pno == 'q' or pno == 'Q'):\n",
    "        print('*** You Lose :( ***')\n",
    "        break\n",
    "    else:\n",
    "        pno = int(pno)\n",
    "    is_invalid(pno)\n",
    "    if(is_invalid(pno) == True):\n",
    "        print(\"---Invalid Move---\")\n",
    "    else:\n",
    "        make_a_move(pno)\n",
    "        clear_output()\n",
    "        print('[  0     1      2     3     4      5     6  ]')\n",
    "        print(positions)\n",
    "    if(positions == ['\\U0001F42C','\\U0001F42C','\\U0001F42C','\\U0001F341','\\U0001F438','\\U0001F438','\\U0001F438']):\n",
    "        print('*** Yeah! :) ***')\n",
    "        print('***$ You Won $ ***')\n",
    "        break\n",
    "def is_invalid(pno):\n",
    "    pno = int(pno)\n",
    "    if(pno not in range(0,7)):\n",
    "        return True\n",
    "    if(positions[pno] == '\\U0001F341'):\n",
    "        return True\n",
    "    if(positions[pno] == '\\U0001F438'):\n",
    "        if(pno+1 <= 6 and positions[pno+1] == '\\U0001F341'):\n",
    "            return False\n",
    "        elif(pno+2 <= 6 and positions[pno+2] == '\\U0001F341'):\n",
    "            return False\n",
    "        else:\n",
    "            return True\n",
    "    if(positions[pno] == '\\U0001F42C'):\n",
    "        if(pno-1 <= 6 and positions[pno-1] == '\\U0001F341'):\n",
    "            return False\n",
    "        elif(pno-2 <= 6 and positions[pno-2] == '\\U0001F341'):\n",
    "            return False\n",
    "        else:\n",
    "            return True\n",
    "def make_a_move(pno):\n",
    "    if(positions[pno] == '\\U0001F438'):\n",
    "        if (pno+1 <= 6 and positions[pno+1] == '\\U0001F341'):\n",
    "            positions[pno],positions[pno+1]=positions[pno+1],positions[pno]\n",
    "        elif (pno+2 <= 6 and positions[pno+2] == '\\U0001F341'):\n",
    "            positions[pno],positions[pno+2]=positions[pno+2],positions[pno]\n",
    "    if(positions[pno] == '\\U0001F42C'):\n",
    "        if (pno-1 <= 6 and positions[pno-1] == '\\U0001F341'):\n",
    "            positions[pno],positions[pno-1]=positions[pno-1],positions[pno]\n",
    "        elif (pno-2 <= 6 and positions[pno-2] == '\\U0001F341'):\n",
    "             positions[pno],positions[pno-2]=positions[pno-2],positions[pno]\n"
   ]
  },
  {
   "cell_type": "code",
   "execution_count": null,
   "metadata": {},
   "outputs": [],
   "source": []
  },
  {
   "cell_type": "code",
   "execution_count": null,
   "metadata": {},
   "outputs": [],
   "source": []
  },
  {
   "cell_type": "code",
   "execution_count": null,
   "metadata": {},
   "outputs": [],
   "source": []
  }
 ],
 "metadata": {
  "kernelspec": {
   "display_name": "Python 3",
   "language": "python",
   "name": "python3"
  },
  "language_info": {
   "codemirror_mode": {
    "name": "ipython",
    "version": 3
   },
   "file_extension": ".py",
   "mimetype": "text/x-python",
   "name": "python",
   "nbconvert_exporter": "python",
   "pygments_lexer": "ipython3",
   "version": "3.8.3"
  }
 },
 "nbformat": 4,
 "nbformat_minor": 4
}
